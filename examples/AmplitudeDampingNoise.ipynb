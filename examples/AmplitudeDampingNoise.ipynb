{
 "cells": [
  {
   "cell_type": "code",
   "execution_count": 1,
   "metadata": {},
   "outputs": [],
   "source": [
    "from pyquil.quil import Program, MEASURE\n",
    "from pyquil.api import SyncConnection, JobConnection\n",
    "from pyquil.job_results import wait_for_job\n",
    "from pyquil.gates import CZ, H, I, X\n",
    "import numpy as np"
   ]
  },
  {
   "cell_type": "code",
   "execution_count": 2,
   "metadata": {},
   "outputs": [],
   "source": [
    "# TODO delete me before committing\n",
    "cxn = SyncConnection(endpoint=\"http://localhost:5000\")"
   ]
  },
  {
   "cell_type": "code",
   "execution_count": 3,
   "metadata": {},
   "outputs": [],
   "source": [
    "def append_damping_to_gate(gate, damp_prob=.1):\n",
    "    \"\"\"\n",
    "    Generate the Kraus operators corresponding to a given unitary \n",
    "    single qubit gate followed by an amplitude damping noise channel.\n",
    "    \n",
    "    :params np.ndarray|list gate: The 2x2 unitary gate matrix.\n",
    "    :params float damp_prob: The one-step damping probability.\n",
    "    :return: A list [k1, k2] of the Kraus operators that parametrize the map.\n",
    "    :rtype: list\n",
    "    \"\"\"\n",
    "    damping_op = np.sqrt(damp_prob) * np.array([[0, 1],\n",
    "                                                [0, 0]])\n",
    "    \n",
    "    residual_kraus = np.sqrt(np.eye(2) - damping_op.T.conjugate().dot(damping_op))\n",
    "    return [residual_kraus.dot(gate), damping_op.dot(gate)]"
   ]
  },
  {
   "cell_type": "code",
   "execution_count": 4,
   "metadata": {},
   "outputs": [
    {
     "name": "stdout",
     "output_type": "stream",
     "text": [
      "Simulating for num_I=0\n",
      "Simulating for num_I=5\n",
      "Simulating for num_I=10\n",
      "Simulating for num_I=15\n",
      "Simulating for num_I=20\n",
      "Simulating for num_I=25\n",
      "Simulating for num_I=30\n",
      "Simulating for num_I=35\n",
      "Simulating for num_I=40\n",
      "Simulating for num_I=45\n",
      "Simulating for num_I=50\n",
      "Simulating for num_I=55\n",
      "Simulating for num_I=60\n",
      "Simulating for num_I=65\n",
      "Simulating for num_I=70\n",
      "Simulating for num_I=75\n",
      "Simulating for num_I=80\n",
      "Simulating for num_I=85\n",
      "Simulating for num_I=90\n",
      "Simulating for num_I=95\n",
      "Simulating for num_I=100\n",
      "CPU times: user 82.6 ms, sys: 13.4 ms, total: 96.1 ms\n",
      "Wall time: 22.1 s\n"
     ]
    }
   ],
   "source": [
    "%%time\n",
    "cxn = SyncConnection(endpoint=\"http://localhost:5000\")\n",
    "# cxn = JobConnection(endpoint=\"http://localhost:5000\")\n",
    "\n",
    "damping_per_I = 0.02\n",
    "trials = 100\n",
    "\n",
    "results = []\n",
    "outcomes = []\n",
    "lengths = np.arange(0, 101, 5, dtype=int)\n",
    "for num_I in lengths:\n",
    "    print(\"Simulating for num_I={}\".format(num_I))\n",
    "    \n",
    "    p = Program(X(0))\n",
    "    # want increasing number of I-gates\n",
    "    p.inst([I(0) for _ in range(num_I)])\n",
    "    p.inst(MEASURE(0, [0]))\n",
    "    \n",
    "    # overload identity I on qc 0\n",
    "    p.define_noisy_gate(\"I\", [0], append_damping_to_gate(np.eye(2), damping_per_I))\n",
    "    cxn.random_seed = int(num_I)\n",
    "    res = cxn.run(p, [0], trials=trials)\n",
    "    results.append([np.mean(res), np.std(res) / np.sqrt(trials)])\n",
    "    \n",
    "results = np.array(results)"
   ]
  },
  {
   "cell_type": "code",
   "execution_count": 5,
   "metadata": {},
   "outputs": [],
   "source": [
    "survival_probs = (1-damping_per_I)**lengths"
   ]
  },
  {
   "cell_type": "code",
   "execution_count": 6,
   "metadata": {},
   "outputs": [
    {
     "data": {
      "text/plain": [
       "<matplotlib.legend.Legend at 0x113112b70>"
      ]
     },
     "execution_count": 6,
     "metadata": {},
     "output_type": "execute_result"
    },
    {
     "data": {
      "image/png": "[encoded data removed]",
      "text/plain": [
       "<matplotlib.figure.Figure at 0x111416240>"
      ]
     },
     "metadata": {},
     "output_type": "display_data"
    }
   ],
   "source": [
    "import matplotlib.pyplot as plt\n",
    "%matplotlib inline\n",
    "plt.figure(figsize=(10, 5))\n",
    "plt.errorbar(lengths, results[:,0], yerr=results[:,1], label=\"noisy qvm\")\n",
    "plt.plot(lengths, survival_probs, label=\"theory\")\n",
    "plt.title(\"Amplitude damping model of a single qubit\", size=14)\n",
    "plt.xlabel(r\"Time $t$ [arb. units]\", size=14)\n",
    "plt.ylabel(r\"$p_1(t)$\", size=14)\n",
    "plt.legend(loc=\"best\")"
   ]
  },
  {
   "cell_type": "code",
   "execution_count": null,
   "metadata": {},
   "outputs": [],
   "source": []
  }
 ],
 "metadata": {
  "kernelspec": {
   "display_name": "Python 3",
   "language": "python",
   "name": "python3"
  },
  "language_info": {
   "codemirror_mode": {
    "name": "ipython",
    "version": 3
   },
   "file_extension": ".py",
   "mimetype": "text/x-python",
   "name": "python",
   "nbconvert_exporter": "python",
   "pygments_lexer": "ipython3",
   "version": "3.6.1"
  }
 },
 "nbformat": 4,
 "nbformat_minor": 2
}
